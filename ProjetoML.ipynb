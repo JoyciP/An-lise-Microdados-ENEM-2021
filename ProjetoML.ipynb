{
  "nbformat": 4,
  "nbformat_minor": 0,
  "metadata": {
    "colab": {
      "provenance": [],
      "authorship_tag": "ABX9TyOEoc7AY5seqWRw8fzd2bm0",
      "include_colab_link": true
    },
    "kernelspec": {
      "name": "python3",
      "display_name": "Python 3"
    },
    "language_info": {
      "name": "python"
    }
  },
  "cells": [
    {
      "cell_type": "markdown",
      "metadata": {
        "id": "view-in-github",
        "colab_type": "text"
      },
      "source": [
        "<a href=\"https://colab.research.google.com/github/JoyciP/An-lise-Microdados-ENEM-2021/blob/main/ProjetoML.ipynb\" target=\"_parent\"><img src=\"https://colab.research.google.com/assets/colab-badge.svg\" alt=\"Open In Colab\"/></a>"
      ]
    },
    {
      "cell_type": "code",
      "execution_count": 2,
      "metadata": {
        "colab": {
          "base_uri": "https://localhost:8080/"
        },
        "id": "SFnMgI2oyX6T",
        "outputId": "6c009b26-588e-47ea-abfe-199978dced98"
      },
      "outputs": [
        {
          "output_type": "stream",
          "name": "stdout",
          "text": [
            "{'title': 'Slime Time Fall Fest [With CDROM and Collector Cards and Neutron Balls, Incredi-Ball and Glow Stick Necklace, Paper Fram', 'brand': 'Group Publishing (CO)', 'feature': ['Product Dimensions:\\n                    \\n8.7 x 3.6 x 11.4 inches', 'Shipping Weight:\\n                    \\n2.4 pounds'], 'rank': '13,052,976inClothing,Shoesamp;Jewelry(', 'date': '8.70 inches', 'asin': '0764443682', 'imageURL': ['https://images-na.ssl-images-amazon.com/images/I/51bSrINiWpL._US40_.jpg'], 'imageURLHighRes': ['https://images-na.ssl-images-amazon.com/images/I/51bSrINiWpL.jpg']}\n",
            "{'title': \"XCC Qi promise new spider snake preparing men's accessories alloy fittings magnet buckle bracelet jewelry\", 'rank': '11,654,581inClothing,Shoesamp;Jewelry(', 'date': '5 star', 'asin': '1291691480', 'imageURL': ['https://images-na.ssl-images-amazon.com/images/I/41BCH7-4vHL._US40_.jpg', 'https://images-na.ssl-images-amazon.com/images/I/41FpbB--SoL._US40_.jpg', 'https://images-na.ssl-images-amazon.com/images/I/51twQYJo0NL._US40_.jpg'], 'imageURLHighRes': ['https://images-na.ssl-images-amazon.com/images/I/41BCH7-4vHL.jpg', 'https://images-na.ssl-images-amazon.com/images/I/41FpbB--SoL.jpg', 'https://images-na.ssl-images-amazon.com/images/I/51twQYJo0NL.jpg']}\n",
            "{'description': ['For the professional or amateur magician.  Routines include: The Thought Transmitter (An accidental USAF experiment that became a hit at the Denver Playboy Club and continues through today!), Three Card Match (The trick that fooled Dai Vernon), Numbo-Jumbo (A stack of 85 cards containing random 2 and 4 digit numbers is apparently memorized), The Binary Box (Light the light  even rocket scientists could not figure it out!), Kryptonite! (Anyone can be a superhero and save the day!), Laundry Quandary (Where did the missing sock go?), Comedy Birthday Cake Production Routine (The funniest and most memorable part of any kids birthday party.), Dazzling Divination! (A pocket mentalism effect that is always ready to go. If you do safety magic, heres a strong effect that packs real small.) and Sweet Sixteen (A great commercial effect that really gets your customers message across.)\\n\\nIncluded in his latest book is a bonus chapter entitled, Putting a Little Magic in your Life and Business.  A book in itself!  Not just for magicians, but for anyone who wants to add a little magic to their life, and stand out amongst the crowd.  Learn ways to get known and not forgotten! By setting up your magical reputation, your business card wont be stuck in the middle of a pile  YOU can control it to the top!'], 'title': 'Magical Things I Really Do Do Too!', 'brand': 'Christopher Manos', 'feature': ['Package Dimensions:\\n                    \\n8.5 x 5.5 x 0.4 inches', 'Shipping Weight:\\n                    \\n6.1 ounces'], 'rank': '19,308,073inClothing,ShoesJewelry(', 'date': '5 star', 'asin': '1940280001', 'imageURL': ['https://images-na.ssl-images-amazon.com/images/I/4196%2BTu5T%2BL._SR38,50_.jpg', 'https://images-na.ssl-images-amazon.com/images/I/31N2zBaedSL._SR38,50_.jpg'], 'imageURLHighRes': ['https://images-na.ssl-images-amazon.com/images/I/4196%2BTu5T%2BL.jpg', 'https://images-na.ssl-images-amazon.com/images/I/31N2zBaedSL.jpg']}\n",
            "{'title': 'Ashes to Ashes, Oranges to Oranges', 'brand': 'Flickerlamp Publishing', 'feature': ['Package Dimensions:\\n                    \\n8.3 x 5.5 x 0.3 inches', 'Shipping Weight:\\n                    \\n5.6 ounces'], 'rank': '19,734,184inClothing,ShoesJewelry(', 'date': '5 star', 'asin': '1940735033', 'imageURL': ['https://images-na.ssl-images-amazon.com/images/I/41VHFlSGjoL._SR38,50_.jpg'], 'imageURLHighRes': ['https://images-na.ssl-images-amazon.com/images/I/41VHFlSGjoL.jpg']}\n",
            "{'title': 'Aether & Empire #1 - 2016 First Printing Comic Book Special Edition - Rare! - Blue Juice Comics', 'feature': ['Package Dimensions:\\n                    \\n10.5 x 6.5 x 0.2 inches', 'Shipping Weight:\\n                    \\n6.4 ounces (View shipping rates and policies)'], 'rank': '10,558,646inClothing,Shoesamp;Jewelry(', 'date': '5 star', 'price': '$4.50', 'asin': '1940967805', 'imageURL': ['https://images-na.ssl-images-amazon.com/images/I/418HGjTDbRL._SR38,50_.jpg'], 'imageURLHighRes': ['https://images-na.ssl-images-amazon.com/images/I/418HGjTDbRL.jpg']}\n"
          ]
        }
      ],
      "source": [
        "import gzip\n",
        "import json\n",
        "\n",
        "# Nome do arquivo que você fez upload\n",
        "file_name = \"meta_AMAZON_FASHION.json.gz\"\n",
        "\n",
        "def parse(path):\n",
        "    g = gzip.open(path, 'rt')\n",
        "    for l in g:\n",
        "        yield json.loads(l)\n",
        "\n",
        "# Processa e exibe as primeiras 5 entradas\n",
        "for i, entry in enumerate(parse(file_name)):\n",
        "    if i >= 5:\n",
        "        break\n",
        "    print(entry)\n"
      ]
    },
    {
      "cell_type": "code",
      "source": [
        "import gzip\n",
        "import json\n",
        "import re\n",
        "\n",
        "# Nome do arquivo que você fez upload\n",
        "file_name = \"meta_AMAZON_FASHION.json.gz\"\n",
        "\n",
        "def parse(path):\n",
        "    g = gzip.open(path, 'rt')\n",
        "    for l in g:\n",
        "        yield json.loads(l)\n",
        "\n",
        "def extract_dimensions(feature):\n",
        "    # Encontra padrões de dimensões no texto das características\n",
        "    pattern = r\"(\\d+\\.\\d+|\\d+) x (\\d+\\.\\d+|\\d+) x (\\d+\\.\\d+|\\d+) (inches|inch)\"\n",
        "    match = re.search(pattern, feature)\n",
        "    if match:\n",
        "        return match.group(0)\n",
        "    return None\n",
        "\n",
        "def extract_weight(feature):\n",
        "    # Encontra padrões de peso no texto das características\n",
        "    pattern = r\"Shipping Weight:\\s+(\\d+\\.\\d+|\\d+) (pounds|pound)\"\n",
        "    match = re.search(pattern, feature)\n",
        "    if match:\n",
        "        return match.group(1)\n",
        "    return None\n",
        "\n",
        "dimensions_list = []\n",
        "weights_list = []\n",
        "\n",
        "# Processa os dados e extrai informações de dimensões e peso\n",
        "for entry in parse(file_name):\n",
        "    features = entry.get('feature', [])\n",
        "    for feature in features:\n",
        "        dimensions = extract_dimensions(feature)\n",
        "        if dimensions:\n",
        "            dimensions_list.append(dimensions)\n",
        "\n",
        "        weight = extract_weight(feature)\n",
        "        if weight:\n",
        "            weights_list.append(float(weight))\n",
        "\n",
        "# Exibe algumas estatísticas\n",
        "print(\"Estatísticas de Dimensões:\")\n",
        "print(\"Total de Dimensões: \", len(dimensions_list))\n",
        "print(\"Exemplos de Dimensões:\")\n",
        "for dimensions in dimensions_list[:5]:\n",
        "    print(dimensions)\n",
        "\n",
        "print(\"\\nEstatísticas de Peso de Envio:\")\n",
        "print(\"Total de Pesos: \", len(weights_list))\n",
        "print(\"Peso Médio: \", sum(weights_list) / len(weights_list))\n",
        "print(\"Peso Máximo: \", max(weights_list))\n",
        "print(\"Peso Mínimo: \", min(weights_list))\n"
      ],
      "metadata": {
        "id": "iriKT_4uyY_P",
        "colab": {
          "base_uri": "https://localhost:8080/"
        },
        "outputId": "cbe61484-d551-4e67-d92e-ede88bef2d64"
      },
      "execution_count": 3,
      "outputs": [
        {
          "output_type": "stream",
          "name": "stdout",
          "text": [
            "Estatísticas de Dimensões:\n",
            "Total de Dimensões:  105847\n",
            "Exemplos de Dimensões:\n",
            "8.7 x 3.6 x 11.4 inches\n",
            "8.5 x 5.5 x 0.4 inches\n",
            "8.3 x 5.5 x 0.3 inches\n",
            "10.5 x 6.5 x 0.2 inches\n",
            "4.5 x 2.5 x 0.5 inches\n",
            "\n",
            "Estatísticas de Peso de Envio:\n",
            "Total de Pesos:  24456\n",
            "Peso Médio:  2.025458783120697\n",
            "Peso Máximo:  551.0\n",
            "Peso Mínimo:  1.0\n"
          ]
        }
      ]
    },
    {
      "cell_type": "code",
      "source": [],
      "metadata": {
        "id": "0JBS6hP6jnGQ"
      },
      "execution_count": null,
      "outputs": []
    }
  ]
}